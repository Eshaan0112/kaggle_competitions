{
 "cells": [
  {
   "cell_type": "code",
   "execution_count": 1,
   "id": "b69bc72c",
   "metadata": {
    "_cell_guid": "b1076dfc-b9ad-4769-8c92-a6c4dae69d19",
    "_uuid": "8f2839f25d086af736a60e9eeb907d3b93b6e0e5",
    "execution": {
     "iopub.execute_input": "2025-01-23T19:08:09.364550Z",
     "iopub.status.busy": "2025-01-23T19:08:09.364115Z",
     "iopub.status.idle": "2025-01-23T19:08:12.338232Z",
     "shell.execute_reply": "2025-01-23T19:08:12.337013Z"
    },
    "papermill": {
     "duration": 2.983743,
     "end_time": "2025-01-23T19:08:12.340790",
     "exception": false,
     "start_time": "2025-01-23T19:08:09.357047",
     "status": "completed"
    },
    "tags": []
   },
   "outputs": [
    {
     "name": "stdout",
     "output_type": "stream",
     "text": [
      "/kaggle/input/flight-delays-fall-2018/sample_submission.csv.zip\n",
      "/kaggle/input/flight-delays-fall-2018/flight_delays_train.csv.zip\n",
      "/kaggle/input/flight-delays-fall-2018/flight_delays_test.csv.zip\n"
     ]
    }
   ],
   "source": [
    "# This Python 3 environment comes with many helpful analytics libraries installed\n",
    "# It is defined by the kaggle/python Docker image: https://github.com/kaggle/docker-python\n",
    "# For example, here's several helpful packages to load\n",
    "\n",
    "# All necessary imports\n",
    "import numpy as np # linear algebra\n",
    "import pandas as pd # data processing, CSV file I/O (e.g. pd.read_csv)\n",
    "from zipfile import ZipFile\n",
    "import matplotlib.pyplot as plt\n",
    "from xgboost import XGBClassifier\n",
    "from pandas.api.types import is_string_dtype, is_numeric_dtype\n",
    "from sklearn.preprocessing import LabelEncoder\n",
    "from sklearn.model_selection import train_test_split\n",
    "\n",
    "\n",
    "\n",
    "\n",
    "# Input data files are available in the read-only \"../input/\" directory\n",
    "# For example, running this (by clicking run or pressing Shift+Enter) will list all files under the input directory\n",
    "\n",
    "import os\n",
    "for dirname, _, filenames in os.walk('/kaggle/input'):\n",
    "    for filename in filenames:\n",
    "        print(os.path.join(dirname, filename))\n",
    "\n",
    "# You can write up to 20GB to the current directory (/kaggle/working/) that gets preserved as output when you create a version using \"Save & Run All\" \n",
    "# You can also write temporary files to /kaggle/temp/, but they won't be saved outside of the current session"
   ]
  },
  {
   "cell_type": "markdown",
   "id": "54d2dcde",
   "metadata": {
    "papermill": {
     "duration": 0.003223,
     "end_time": "2025-01-23T19:08:12.348685",
     "exception": false,
     "start_time": "2025-01-23T19:08:12.345462",
     "status": "completed"
    },
    "tags": []
   },
   "source": [
    "# Load training data"
   ]
  },
  {
   "cell_type": "code",
   "execution_count": 2,
   "id": "a3e05b40",
   "metadata": {
    "execution": {
     "iopub.execute_input": "2025-01-23T19:08:12.357488Z",
     "iopub.status.busy": "2025-01-23T19:08:12.356965Z",
     "iopub.status.idle": "2025-01-23T19:08:12.849345Z",
     "shell.execute_reply": "2025-01-23T19:08:12.847997Z"
    },
    "papermill": {
     "duration": 0.499833,
     "end_time": "2025-01-23T19:08:12.852068",
     "exception": false,
     "start_time": "2025-01-23T19:08:12.352235",
     "status": "completed"
    },
    "tags": []
   },
   "outputs": [],
   "source": [
    "data_path = \"/kaggle/input/flight-delays-fall-2018\"\n",
    "train_df = pd.read_csv(f\"{data_path}/flight_delays_train.csv.zip\")\n",
    "test_df = pd.read_csv(f\"{data_path}/flight_delays_test.csv.zip\")\n",
    "submission = pd.read_csv(f\"{data_path}/sample_submission.csv.zip\")\n"
   ]
  },
  {
   "cell_type": "markdown",
   "id": "dafbf189",
   "metadata": {
    "papermill": {
     "duration": 0.003113,
     "end_time": "2025-01-23T19:08:12.859061",
     "exception": false,
     "start_time": "2025-01-23T19:08:12.855948",
     "status": "completed"
    },
    "tags": []
   },
   "source": [
    "# Preprocess data\n",
    "## Some info on the data\n",
    "    1. Label (Binary Y/N)): 'dep_delayed_15min'\n",
    "    2. No NaNs in data\n",
    "    3. All columns except 2 ('DepTime' and 'Distance') are categorical\n",
    "    4. All categoricals are prepended with the string \"c-\""
   ]
  },
  {
   "cell_type": "code",
   "execution_count": 3,
   "id": "15b4b8e5",
   "metadata": {
    "execution": {
     "iopub.execute_input": "2025-01-23T19:08:12.867420Z",
     "iopub.status.busy": "2025-01-23T19:08:12.867003Z",
     "iopub.status.idle": "2025-01-23T19:08:12.874503Z",
     "shell.execute_reply": "2025-01-23T19:08:12.873258Z"
    },
    "papermill": {
     "duration": 0.014446,
     "end_time": "2025-01-23T19:08:12.876838",
     "exception": false,
     "start_time": "2025-01-23T19:08:12.862392",
     "status": "completed"
    },
    "tags": []
   },
   "outputs": [],
   "source": [
    "def clean_categoricals(df):\n",
    "    \"\"\"\n",
    "    This function removes the prefix 'c-' from categorical columns in the data\n",
    "    \"\"\"\n",
    "    categorical_cols = df.select_dtypes(include=\"object\") # categorical columns\n",
    "    for c in categorical_cols:\n",
    "        df[c] = df[c].apply(lambda x: x.lstrip('c-')) # remove \"c-\" prefix \n",
    "    return df\n",
    "    \n",
    "def preprocess(df):\n",
    "    label_encoder = LabelEncoder()\n",
    "    df = clean_categoricals(df)\n",
    "    object_cols = df.select_dtypes(include=['object']).columns\n",
    "    \n",
    "    # Label encoding\n",
    "    for col in object_cols:\n",
    "        df[col] = label_encoder.fit_transform(df[col])\n",
    "    return df\n"
   ]
  },
  {
   "cell_type": "markdown",
   "id": "26208a47",
   "metadata": {
    "papermill": {
     "duration": 0.002944,
     "end_time": "2025-01-23T19:08:12.883084",
     "exception": false,
     "start_time": "2025-01-23T19:08:12.880140",
     "status": "completed"
    },
    "tags": []
   },
   "source": [
    "# Train-Test split"
   ]
  },
  {
   "cell_type": "code",
   "execution_count": 4,
   "id": "e9763a50",
   "metadata": {
    "execution": {
     "iopub.execute_input": "2025-01-23T19:08:12.892026Z",
     "iopub.status.busy": "2025-01-23T19:08:12.891608Z",
     "iopub.status.idle": "2025-01-23T19:08:13.251178Z",
     "shell.execute_reply": "2025-01-23T19:08:13.249819Z"
    },
    "papermill": {
     "duration": 0.367116,
     "end_time": "2025-01-23T19:08:13.253571",
     "exception": false,
     "start_time": "2025-01-23T19:08:12.886455",
     "status": "completed"
    },
    "tags": []
   },
   "outputs": [
    {
     "name": "stdout",
     "output_type": "stream",
     "text": [
      "8\n"
     ]
    }
   ],
   "source": [
    "from sklearn.model_selection import train_test_split\n",
    "df = preprocess(train_df)\n",
    "y = df.pop('dep_delayed_15min')\n",
    "print(len(df.columns))\n",
    "X_train, X_test, y_train, y_test = train_test_split(df, y, test_size=0.25, random_state=42)\n"
   ]
  },
  {
   "cell_type": "markdown",
   "id": "ba04999e",
   "metadata": {
    "papermill": {
     "duration": 0.003008,
     "end_time": "2025-01-23T19:08:13.259862",
     "exception": false,
     "start_time": "2025-01-23T19:08:13.256854",
     "status": "completed"
    },
    "tags": []
   },
   "source": [
    "# XGBoost training"
   ]
  },
  {
   "cell_type": "code",
   "execution_count": 5,
   "id": "50d6c4cc",
   "metadata": {
    "execution": {
     "iopub.execute_input": "2025-01-23T19:08:13.268039Z",
     "iopub.status.busy": "2025-01-23T19:08:13.267662Z",
     "iopub.status.idle": "2025-01-23T19:08:13.776731Z",
     "shell.execute_reply": "2025-01-23T19:08:13.775854Z"
    },
    "papermill": {
     "duration": 0.516359,
     "end_time": "2025-01-23T19:08:13.779425",
     "exception": false,
     "start_time": "2025-01-23T19:08:13.263066",
     "status": "completed"
    },
    "tags": []
   },
   "outputs": [],
   "source": [
    "# Initialize the XGBoost classifier\n",
    "xgb_clf = XGBClassifier(use_label_encoder=False, eval_metric='mlogloss', random_state=42)\n",
    "\n",
    "# Train the model\n",
    "xgb_clf.fit(X_train, y_train)\n",
    "\n",
    "# Make predictions\n",
    "y_pred = xgb_clf.predict(X_test)\n",
    "\n",
    "# Rsq of training test set\n"
   ]
  },
  {
   "cell_type": "code",
   "execution_count": 6,
   "id": "6687feb2",
   "metadata": {
    "execution": {
     "iopub.execute_input": "2025-01-23T19:08:13.789385Z",
     "iopub.status.busy": "2025-01-23T19:08:13.788968Z",
     "iopub.status.idle": "2025-01-23T19:08:14.257749Z",
     "shell.execute_reply": "2025-01-23T19:08:14.256239Z"
    },
    "papermill": {
     "duration": 0.477176,
     "end_time": "2025-01-23T19:08:14.260854",
     "exception": false,
     "start_time": "2025-01-23T19:08:13.783678",
     "status": "completed"
    },
    "tags": []
   },
   "outputs": [],
   "source": [
    "test_df = preprocess(test_df)\n",
    "preds = xgb_clf.predict(test_df)\n",
    "submission_df = submission = pd.DataFrame({\n",
    "    'id': test_df.index,\n",
    "    'dep_delayed_15min': preds\n",
    "})\n",
    "\n",
    "# Save the submission to a CSV file\n",
    "i = 1\n",
    "submission.to_csv(f'submission{i}.csv', index=False)\n",
    "\n",
    "# Display the first few rows of the submission\n",
    "# print(submission.head())\n"
   ]
  },
  {
   "cell_type": "code",
   "execution_count": null,
   "id": "3f49e04a",
   "metadata": {
    "papermill": {
     "duration": 0.003446,
     "end_time": "2025-01-23T19:08:14.268048",
     "exception": false,
     "start_time": "2025-01-23T19:08:14.264602",
     "status": "completed"
    },
    "tags": []
   },
   "outputs": [],
   "source": []
  },
  {
   "cell_type": "code",
   "execution_count": null,
   "id": "c5821b39",
   "metadata": {
    "papermill": {
     "duration": 0.003422,
     "end_time": "2025-01-23T19:08:14.274810",
     "exception": false,
     "start_time": "2025-01-23T19:08:14.271388",
     "status": "completed"
    },
    "tags": []
   },
   "outputs": [],
   "source": []
  },
  {
   "cell_type": "code",
   "execution_count": null,
   "id": "7625c479",
   "metadata": {
    "papermill": {
     "duration": 0.004353,
     "end_time": "2025-01-23T19:08:14.284383",
     "exception": false,
     "start_time": "2025-01-23T19:08:14.280030",
     "status": "completed"
    },
    "tags": []
   },
   "outputs": [],
   "source": []
  }
 ],
 "metadata": {
  "kaggle": {
   "accelerator": "none",
   "dataSources": [
    {
     "databundleVersionId": 210239,
     "sourceId": 12176,
     "sourceType": "competition"
    }
   ],
   "dockerImageVersionId": 30786,
   "isGpuEnabled": false,
   "isInternetEnabled": true,
   "language": "python",
   "sourceType": "notebook"
  },
  "kernelspec": {
   "display_name": "Python 3",
   "language": "python",
   "name": "python3"
  },
  "language_info": {
   "codemirror_mode": {
    "name": "ipython",
    "version": 3
   },
   "file_extension": ".py",
   "mimetype": "text/x-python",
   "name": "python",
   "nbconvert_exporter": "python",
   "pygments_lexer": "ipython3",
   "version": "3.10.14"
  },
  "papermill": {
   "default_parameters": {},
   "duration": 9.319416,
   "end_time": "2025-01-23T19:08:15.011178",
   "environment_variables": {},
   "exception": null,
   "input_path": "__notebook__.ipynb",
   "output_path": "__notebook__.ipynb",
   "parameters": {},
   "start_time": "2025-01-23T19:08:05.691762",
   "version": "2.6.0"
  }
 },
 "nbformat": 4,
 "nbformat_minor": 5
}
